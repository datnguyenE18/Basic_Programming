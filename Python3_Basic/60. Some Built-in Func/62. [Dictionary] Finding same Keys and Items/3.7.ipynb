{
 "cells": [
  {
   "cell_type": "code",
   "execution_count": 1,
   "metadata": {},
   "outputs": [],
   "source": [
    "A = {\n",
    "    'x' : 1,\n",
    "    'y' : 2,\n",
    "    'z' : 5\n",
    "}\n",
    "\n",
    "B = {\n",
    "    'c' : 1,\n",
    "    'k' : 2,\n",
    "    'z' : 5\n",
    "}"
   ]
  },
  {
   "cell_type": "markdown",
   "metadata": {},
   "source": [
    "### Finding same Keys:"
   ]
  },
  {
   "cell_type": "code",
   "execution_count": 2,
   "metadata": {},
   "outputs": [
    {
     "name": "stdout",
     "output_type": "stream",
     "text": [
      "{'z'}\n",
      "['z']\n",
      "{'z'}\n"
     ]
    }
   ],
   "source": [
    "print (set(A).intersection(B))\n",
    "print ([x for x in A if x in B])\n",
    "print (A.keys() & B.keys())"
   ]
  },
  {
   "cell_type": "markdown",
   "metadata": {},
   "source": [
    "### Finding same Items:"
   ]
  },
  {
   "cell_type": "code",
   "execution_count": 3,
   "metadata": {},
   "outputs": [
    {
     "name": "stdout",
     "output_type": "stream",
     "text": [
      "{('z', 5)}\n"
     ]
    }
   ],
   "source": [
    "print (A.items() & B.items())"
   ]
  },
  {
   "cell_type": "markdown",
   "metadata": {},
   "source": [
    "### in A, not in B"
   ]
  },
  {
   "cell_type": "code",
   "execution_count": 4,
   "metadata": {},
   "outputs": [
    {
     "name": "stdout",
     "output_type": "stream",
     "text": [
      "{'y', 'x'}\n",
      "['x', 'y']\n",
      "{'y', 'x'}\n"
     ]
    }
   ],
   "source": [
    "print (set(A) - set(B))\n",
    "print ([x for x in A if x not in B])\n",
    "print (A.keys() - B.keys())"
   ]
  },
  {
   "cell_type": "code",
   "execution_count": null,
   "metadata": {},
   "outputs": [],
   "source": []
  }
 ],
 "metadata": {
  "kernelspec": {
   "display_name": "Python 3",
   "language": "python",
   "name": "python3"
  },
  "language_info": {
   "codemirror_mode": {
    "name": "ipython",
    "version": 3
   },
   "file_extension": ".py",
   "mimetype": "text/x-python",
   "name": "python",
   "nbconvert_exporter": "python",
   "pygments_lexer": "ipython3",
   "version": "3.7.7"
  }
 },
 "nbformat": 4,
 "nbformat_minor": 4
}
