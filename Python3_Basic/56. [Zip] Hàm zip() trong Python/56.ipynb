{
 "cells": [
  {
   "cell_type": "markdown",
   "metadata": {},
   "source": [
    "# Hàm zip()"
   ]
  },
  {
   "cell_type": "markdown",
   "metadata": {},
   "source": [
    "Hàm zip() trong Python trả về một đối tượng zip, là một iterator dạng danh sách các tuple kết hợp các phần tử từ các iterator (được tạo thành từ các iterable) khác.\n",
    "\n"
   ]
  },
  {
   "cell_type": "code",
   "execution_count": 1,
   "metadata": {},
   "outputs": [
    {
     "name": "stdout",
     "output_type": "stream",
     "text": [
      "<class 'zip'>\n",
      "((1, 'ONE'), (2, 'TWO'), (3, 'THREE'))\n"
     ]
    }
   ],
   "source": [
    "numbersList = [1, 2, 3]\n",
    "numbersTuple = ('ONE', 'TWO', 'THREE')\n",
    "\n",
    "result = zip(numbersList, numbersTuple)\n",
    "print (type (result)) # hàm zip() trả về một đối tượng Zip\n",
    "print (tuple (result)) # là một iterator dạng danh sách các tuple"
   ]
  },
  {
   "cell_type": "markdown",
   "metadata": {},
   "source": [
    "**Cú pháp hàm zip() trong Python:**"
   ]
  },
  {
   "cell_type": "raw",
   "metadata": {},
   "source": [
    "zip(*iterable)"
   ]
  },
  {
   "cell_type": "markdown",
   "metadata": {},
   "source": [
    "(Iterable là một đối tượng sau khi sử dụng các phương thức sẽ trả về một iterator, ví dụ như Chuỗi, List, Tuple)."
   ]
  },
  {
   "cell_type": "markdown",
   "metadata": {},
   "source": [
    "**Tham số của hàm zip():**"
   ]
  },
  {
   "cell_type": "markdown",
   "metadata": {},
   "source": [
    "Hàm zip() trong Python có tham số:\n",
    "\n",
    "* iterable: các iterable được tích hợp sẵn (như list, string, dict) hoặc iterable do người dùng khai báo (được tạo thành từ phương thức __ iter__)"
   ]
  },
  {
   "cell_type": "markdown",
   "metadata": {},
   "source": [
    "**Giá trị trả về từ zip()**\n",
    "\n",
    "Hàm zip () trả về một iterator của các bộ dữ liệu tuple dựa trên iterable object.\n",
    "\n",
    "* Nếu không có tham số nào được truyền, zip() trả về một iterator rỗng.\n",
    "* Nếu tham số được truyền chỉ có duy nhất một iterable, zip() trả về tuple có 1 phần tử.\n",
    "* Nếu tham số được truyền có nhiều iterable và độ dài của các iterable không bằng nhau, zip sẽ tạo các tuple có độ dài bằng với số iterable nhỏ nhất."
   ]
  },
  {
   "cell_type": "markdown",
   "metadata": {},
   "source": [
    "### Cách zip() hoạt động:"
   ]
  },
  {
   "cell_type": "code",
   "execution_count": 2,
   "metadata": {},
   "outputs": [
    {
     "name": "stdout",
     "output_type": "stream",
     "text": [
      "[]\n",
      "{(3, 'three'), (1, 'one'), (2, 'two')}\n"
     ]
    }
   ],
   "source": [
    "numberList = [1, 2, 3]\n",
    "strList = ['one', 'two', 'three']\n",
    "\n",
    "# Không truyền iterable\n",
    "result = zip()\n",
    "\n",
    "# Chuyển đổi iterator thành list\n",
    "resultList = list(result)\n",
    "print(resultList) # []\n",
    "\n",
    "# Truyền 2 iterator \n",
    "result = zip(numberList, strList)\n",
    "\n",
    "# Chuyển đổi iterator thành set\n",
    "resultSet = set(result)\n",
    "print(resultSet) # {(1, 'one'), (3, 'three'), (2, 'two')}"
   ]
  },
  {
   "cell_type": "markdown",
   "metadata": {},
   "source": [
    "### Các iterator có số phần tử khác nhau:"
   ]
  },
  {
   "cell_type": "code",
   "execution_count": 3,
   "metadata": {},
   "outputs": [
    {
     "name": "stdout",
     "output_type": "stream",
     "text": [
      "{(2, 'TWO'), (1, 'ONE'), (3, 'THREE')}\n",
      "{(1, 'one', 'ONE'), (2, 'two', 'TWO')}\n"
     ]
    }
   ],
   "source": [
    "numbersList = [1, 2, 3]\n",
    "strList = ['one', 'two']\n",
    "numbersTuple = ('ONE', 'TWO', 'THREE', 'FOUR')\n",
    "\n",
    "result = zip(numbersList, numbersTuple)\n",
    "\n",
    "# Chuyển đổi thành set\n",
    "resultSet = set(result)\n",
    "print(resultSet) # {(3, 'THREE'), (2, 'TWO'), (1, 'ONE')}\n",
    "\n",
    "result = zip(numbersList, strList, numbersTuple)\n",
    "\n",
    "# Chuyển đổi thành set\n",
    "resultSet = set(result)\n",
    "print(resultSet) # {(1, 'one', 'ONE'), (2, 'two', 'TWO')}"
   ]
  },
  {
   "cell_type": "markdown",
   "metadata": {},
   "source": [
    "### Giải nén giá trị:"
   ]
  },
  {
   "cell_type": "code",
   "execution_count": 4,
   "metadata": {},
   "outputs": [
    {
     "name": "stdout",
     "output_type": "stream",
     "text": [
      "[('x', 3), ('y', 4), ('z', 5)]\n",
      "c = ('x', 'y', 'z')\n",
      "v = (3, 4, 5)\n"
     ]
    }
   ],
   "source": [
    "coordinate = ['x', 'y', 'z']\n",
    "value = [3, 4, 5, 0, 9]\n",
    "\n",
    "result = zip(coordinate, value)\n",
    "resultList = list(result)\n",
    "print(resultList) # [('x', 3), ('y', 4), ('z', 5)]\n",
    "\n",
    "c, v = zip(*resultList)\n",
    "print('c =', c) # c = ('x', 'y', 'z')\n",
    "\n",
    "print('v =', v) # v = (3, 4, 5)"
   ]
  }
 ],
 "metadata": {
  "kernelspec": {
   "display_name": "Python 3",
   "language": "python",
   "name": "python3"
  },
  "language_info": {
   "codemirror_mode": {
    "name": "ipython",
    "version": 3
   },
   "file_extension": ".py",
   "mimetype": "text/x-python",
   "name": "python",
   "nbconvert_exporter": "python",
   "pygments_lexer": "ipython3",
   "version": "3.7.7"
  }
 },
 "nbformat": 4,
 "nbformat_minor": 4
}
