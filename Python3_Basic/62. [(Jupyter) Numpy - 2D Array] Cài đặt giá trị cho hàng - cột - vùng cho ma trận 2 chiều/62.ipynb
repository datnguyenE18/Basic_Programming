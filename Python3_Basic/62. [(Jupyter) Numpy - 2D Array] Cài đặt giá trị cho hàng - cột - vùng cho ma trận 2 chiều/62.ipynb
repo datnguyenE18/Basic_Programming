{
 "cells": [
  {
   "cell_type": "markdown",
   "metadata": {},
   "source": [
    "### Set up 2D array\n",
    "\n",
    "Cài đặt giá trị cho hàng/ cột/ vùng trong ma trận"
   ]
  },
  {
   "cell_type": "markdown",
   "metadata": {},
   "source": [
    "#### Import Numpy:"
   ]
  },
  {
   "cell_type": "code",
   "execution_count": 1,
   "metadata": {},
   "outputs": [],
   "source": [
    "import numpy as np"
   ]
  },
  {
   "cell_type": "markdown",
   "metadata": {},
   "source": [
    "#### Init:"
   ]
  },
  {
   "cell_type": "code",
   "execution_count": 2,
   "metadata": {},
   "outputs": [
    {
     "data": {
      "text/plain": [
       "array([[0, 0, 0, 0, 0, 0, 0, 0],\n",
       "       [0, 0, 0, 0, 0, 0, 0, 0],\n",
       "       [0, 0, 0, 0, 0, 0, 0, 0],\n",
       "       [0, 0, 0, 0, 0, 0, 0, 0],\n",
       "       [0, 0, 0, 0, 0, 0, 0, 0],\n",
       "       [0, 0, 0, 0, 0, 0, 0, 0],\n",
       "       [0, 0, 0, 0, 0, 0, 0, 0],\n",
       "       [0, 0, 0, 0, 0, 0, 0, 0],\n",
       "       [0, 0, 0, 0, 0, 0, 0, 0],\n",
       "       [0, 0, 0, 0, 0, 0, 0, 0]])"
      ]
     },
     "execution_count": 2,
     "metadata": {},
     "output_type": "execute_result"
    }
   ],
   "source": [
    "# Tao ma trận 0 kích thước 10 x 8:\n",
    "arr2d = np.zeros((10, 8), dtype = int)\n",
    "\n",
    "# Show:\n",
    "arr2d"
   ]
  },
  {
   "cell_type": "markdown",
   "metadata": {},
   "source": [
    "#### Set up row:"
   ]
  },
  {
   "cell_type": "code",
   "execution_count": 3,
   "metadata": {},
   "outputs": [
    {
     "data": {
      "text/plain": [
       "array([[  0,   0,   0,   0,   0,   0,   0,   0],\n",
       "       [  0,   0,   0,   0,   0,   0,   0,   0],\n",
       "       [100, 100, 100, 100, 100, 100, 100, 100],\n",
       "       [  0,   0,   0,   0,   0,   0,   0,   0],\n",
       "       [  0,   0,   0,   0,   0,   0,   0,   0],\n",
       "       [  0,   0,   0,   0,   0,   0,   0,   0],\n",
       "       [  0,   0,   0,   0,   0,   0,   0,   0],\n",
       "       [  0,   0,   0,   0,   0,   0,   0,   0],\n",
       "       [  0,   0,   0,   0,   0,   0,   0,   0],\n",
       "       [  0,   0,   0,   0,   0,   0,   0,   0]])"
      ]
     },
     "execution_count": 3,
     "metadata": {},
     "output_type": "execute_result"
    }
   ],
   "source": [
    "# Cài đặt giá trị hàng 3 là 100:\n",
    "arr2d[2] = 100\n",
    "\n",
    "# Show:\n",
    "arr2d"
   ]
  },
  {
   "cell_type": "markdown",
   "metadata": {},
   "source": [
    "#### Set up column:"
   ]
  },
  {
   "cell_type": "code",
   "execution_count": 4,
   "metadata": {},
   "outputs": [
    {
     "data": {
      "text/plain": [
       "array([[  0,   0,   0,   0,   0, 200,   0,   0],\n",
       "       [  0,   0,   0,   0,   0, 200,   0,   0],\n",
       "       [100, 100, 100, 100, 100, 200, 100, 100],\n",
       "       [  0,   0,   0,   0,   0, 200,   0,   0],\n",
       "       [  0,   0,   0,   0,   0, 200,   0,   0],\n",
       "       [  0,   0,   0,   0,   0, 200,   0,   0],\n",
       "       [  0,   0,   0,   0,   0, 200,   0,   0],\n",
       "       [  0,   0,   0,   0,   0, 200,   0,   0],\n",
       "       [  0,   0,   0,   0,   0, 200,   0,   0],\n",
       "       [  0,   0,   0,   0,   0, 200,   0,   0]])"
      ]
     },
     "execution_count": 4,
     "metadata": {},
     "output_type": "execute_result"
    }
   ],
   "source": [
    "# Cài đặt giá trị cột 6 là 200:\n",
    "arr2d[:, 5] = 200\n",
    "\n",
    "# Show:\n",
    "arr2d"
   ]
  },
  {
   "cell_type": "markdown",
   "metadata": {},
   "source": [
    "#### Set up area:"
   ]
  },
  {
   "cell_type": "code",
   "execution_count": 5,
   "metadata": {},
   "outputs": [
    {
     "data": {
      "text/plain": [
       "array([[  0,   0,   0,   0,   0, 200,   0,   0],\n",
       "       [  0,   0,   0,   0,   0, 200,   0,   0],\n",
       "       [100, 100, 100, 100, 100, 200, 100, 100],\n",
       "       [  0,   0,   0,   0,   0, 200,   0,   0],\n",
       "       [  0,   0,   0,   0,   0, 200,   0,   0],\n",
       "       [  0, 999, 999, 999,   0, 200,   0,   0],\n",
       "       [  0, 999, 999, 999,   0, 200,   0,   0],\n",
       "       [  0, 999, 999, 999,   0, 200,   0,   0],\n",
       "       [  0, 999, 999, 999,   0, 200,   0,   0],\n",
       "       [  0,   0,   0,   0,   0, 200,   0,   0]])"
      ]
     },
     "execution_count": 5,
     "metadata": {},
     "output_type": "execute_result"
    }
   ],
   "source": [
    "arr2d[5:9, 1:4] = 999\n",
    "\n",
    "# Show:\n",
    "arr2d"
   ]
  },
  {
   "cell_type": "code",
   "execution_count": null,
   "metadata": {},
   "outputs": [],
   "source": []
  },
  {
   "cell_type": "code",
   "execution_count": null,
   "metadata": {},
   "outputs": [],
   "source": []
  }
 ],
 "metadata": {
  "kernelspec": {
   "display_name": "Python 3",
   "language": "python",
   "name": "python3"
  },
  "language_info": {
   "codemirror_mode": {
    "name": "ipython",
    "version": 3
   },
   "file_extension": ".py",
   "mimetype": "text/x-python",
   "name": "python",
   "nbconvert_exporter": "python",
   "pygments_lexer": "ipython3",
   "version": "3.7.7"
  }
 },
 "nbformat": 4,
 "nbformat_minor": 4
}
