{
 "cells": [
  {
   "cell_type": "markdown",
   "metadata": {},
   "source": [
    "# if __ name __ == '__main __'"
   ]
  },
  {
   "cell_type": "markdown",
   "metadata": {},
   "source": [
    "Mình thường thấy các chương trình Python thường hay kèm theo câu if __ name __ == '__ main __' ở cuối sau khi viết các hàm, ví dụ:"
   ]
  },
  {
   "cell_type": "code",
   "execution_count": 1,
   "metadata": {},
   "outputs": [
    {
     "name": "stdout",
     "output_type": "stream",
     "text": [
      "Hello\n"
     ]
    }
   ],
   "source": [
    "def print_hello():\n",
    "    print( \"Hello\" )\n",
    "\n",
    "if __name__ == '__main__':\n",
    "    print_hello()"
   ]
  },
  {
   "cell_type": "markdown",
   "metadata": {},
   "source": [
    "Mình thử xóa đi câu lệnh này đi, chương trình vẫn chạy bình thường, vậy câu lệnh này có tác dụng gì?"
   ]
  },
  {
   "cell_type": "markdown",
   "metadata": {},
   "source": [
    "**Giải thích:**"
   ]
  },
  {
   "cell_type": "markdown",
   "metadata": {},
   "source": [
    "Trong Python, khi bạn viết một chương trình hoặc một **module** nhỏ trong một chương trình lớn thì chắc chắn mã nguồn sẽ được lưu dưới dạng là một file có đuôi mở rộng là **.py**, ví dụ **example.py** chẳng hạn, làm sao để bạn sử dụng file mã nguồn này?"
   ]
  },
  {
   "cell_type": "markdown",
   "metadata": {},
   "source": [
    "Chắc chắn bạn đã biết sẽ có 2 cách để sử dụng đúng không nào:\n",
    "\n",
    "* **Cách 1:** Thực thi mã nguồn Python trực tiếp bằng câu lệnh console của hệ điều hành (Command Line) (**Ví dụ** ```$ python example.py```)\n",
    "\n",
    "\n",
    "* **Cách 2:** **import** mã nguồn Python vào trong một file mã nguồn Python khác."
   ]
  },
  {
   "cell_type": "markdown",
   "metadata": {},
   "source": [
    "Ví dụ mình viết một số hàm trong file Python **foo.py**, mình tạo một file Python khác tên là **bar.py**, trong file **bar.py** mình muốn sử dụng hàm của file **foo.py**, mình chỉ việc sử dụng từ khóa **import** là xong (cái này thì bạn nào lập trình Python chắc chắn là biết rồi)."
   ]
  },
  {
   "cell_type": "code",
   "execution_count": null,
   "metadata": {},
   "outputs": [],
   "source": [
    "# bar.py\n",
    "import foo"
   ]
  },
  {
   "cell_type": "markdown",
   "metadata": {},
   "source": [
    "Thì mục đích của câu lệnh **if __ name __ == \"__ main __\"** dùng để xác định rằng file Python đang được thực thi trực tiếp theo cách 1 hay là đang được **import** trong một chương trình Python khác:\n",
    "\n",
    "* Nếu file Python được thực thi trực tiếp bằng Command Line thì biến **__ name __** sẽ bằng **__ main __** và một số câu lệnh bên trong hàm **if __ name __ == \"__ main __\"** sẽ được thực hiện vì **if** sẽ trả về **True**.\n",
    "\n",
    "\n",
    "* Nếu file Python được **import** thành **module** của chương trình Python khác thì biến **__ name __** sẽ bằng tên của chương trình module đó, ví dụ nếu **foo.py** được **import** trong **bar.py** thì biến **__ name __ = 'bar'** và lệnh **if __ name __ == \"__ main __\"** trả về **False**, tất nhiên một số câu lệnh bên trong hàm **if** sẽ không được thực hiện."
   ]
  },
  {
   "cell_type": "markdown",
   "metadata": {},
   "source": [
    "**Vậy để làm gì?**"
   ]
  },
  {
   "cell_type": "markdown",
   "metadata": {},
   "source": [
    "Giả sử bạn muốn một số đoạn code chỉ được thực thi khi bạn chạy trực tiếp bằng Command Line mà không được thực thi khi bị **import** thành module thì bạn sử dụng câu lệnh này, việc này rất hữu ích khi bạn viết xong một hàm, bạn không chắc là hàm đó có chạy đúng không, bạn sẽ viết thêm một số đoạn code khác ngay bên dưới nó để test thử hàm đó, khi ok rồi, bạn sử dụng lại file Python chứa hàm bạn đã viết ở một chương trình khác thì đoạn code mà lúc bạn viết để test thử bạn có muốn nó cũng thực thi trong khi sử dụng hay không? Tất nhiên là không:\n",
    "\n",
    "* Một là bạn xóa nó đi.\n",
    "\n",
    "\n",
    "* Hai là bạn comment đoạn mã nguồn test thử đó lại.\n",
    "\n",
    "\n",
    "* Ba là sử dụng câu lệnh **if __ name __ == \"__ main __\"** và đặt đoạn mã nguồn test thử vào bên trong if là xong."
   ]
  },
  {
   "cell_type": "markdown",
   "metadata": {},
   "source": [
    "Python không muốn bạn phải phiền hà với những chi tiết lặt vặt khi lập trình, đó chỉ là cách giúp bạn lập trình dễ dàng hơn, tránh bị lỗi và xử lý chuyên nghiệp hơn."
   ]
  },
  {
   "cell_type": "code",
   "execution_count": null,
   "metadata": {},
   "outputs": [],
   "source": []
  }
 ],
 "metadata": {
  "kernelspec": {
   "display_name": "Python 3",
   "language": "python",
   "name": "python3"
  },
  "language_info": {
   "codemirror_mode": {
    "name": "ipython",
    "version": 3
   },
   "file_extension": ".py",
   "mimetype": "text/x-python",
   "name": "python",
   "nbconvert_exporter": "python",
   "pygments_lexer": "ipython3",
   "version": "3.8.3"
  }
 },
 "nbformat": 4,
 "nbformat_minor": 4
}
