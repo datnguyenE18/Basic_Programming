{
 "cells": [
  {
   "cell_type": "markdown",
   "metadata": {},
   "source": [
    "# Phương pháp giải quyết thứ tự (Method Resolution Order - MRO)"
   ]
  },
  {
   "cell_type": "markdown",
   "metadata": {},
   "source": [
    "MRO là thứ tự các method được kế thừa khi có đa kế thừa. Bạn có thể xem MRO bằng cách sử dụng thuộc tính __mro __."
   ]
  },
  {
   "cell_type": "code",
   "execution_count": null,
   "metadata": {},
   "outputs": [],
   "source": [
    ">>> Voi.__mro__\n",
    " (<class 'Voi'>, \n",
    " <class 'NonMarineMammal'>, \n",
    " <class 'NonWingedMammal'>, \n",
    " <class 'Mammal'>, \n",
    " <class 'Animal'>, \n",
    " <class 'object'>)"
   ]
  },
  {
   "cell_type": "markdown",
   "metadata": {},
   "source": [
    "Cách hoạt động của MRO\n",
    "\n",
    "* Một method trong các lệnh dẫn xuất luôn được gọi trước method của class cơ sở. Trong ví dụ của chúng ta, class Voi được gọi trước NonMarineMammal hoặc NonWingedMammal. Hai class này lại được gọi trước class Mammal và Mammal lại được gọi trước Animal, cuối cùng mới đến đối tượng.\n",
    "\n",
    "\n",
    "* Nếu có nhiều class cha mẹ như Voi(NonMarineMammal, NonWingedMammal), các method của NonMarineMammal sẽ được gọi trước tiên vì nó xuất hiện đầu tiên."
   ]
  },
  {
   "cell_type": "code",
   "execution_count": null,
   "metadata": {},
   "outputs": [],
   "source": []
  }
 ],
 "metadata": {
  "kernelspec": {
   "display_name": "Python 3",
   "language": "python",
   "name": "python3"
  },
  "language_info": {
   "codemirror_mode": {
    "name": "ipython",
    "version": 3
   },
   "file_extension": ".py",
   "mimetype": "text/x-python",
   "name": "python",
   "nbconvert_exporter": "python",
   "pygments_lexer": "ipython3",
   "version": "3.8.3"
  }
 },
 "nbformat": 4,
 "nbformat_minor": 4
}
