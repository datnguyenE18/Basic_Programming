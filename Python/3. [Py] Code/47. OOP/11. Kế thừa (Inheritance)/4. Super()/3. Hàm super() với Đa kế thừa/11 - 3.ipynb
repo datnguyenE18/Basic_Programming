{
 "cells": [
  {
   "cell_type": "markdown",
   "metadata": {},
   "source": [
    "# Hàm super() với Đa kế thừa"
   ]
  },
  {
   "cell_type": "code",
   "execution_count": 1,
   "metadata": {},
   "outputs": [
    {
     "name": "stdout",
     "output_type": "stream",
     "text": [
      "Voi có 4 chân.\n",
      "Voi không thể bơi.\n",
      "Voi không thể bay.\n",
      "Voi là động vật máu nóng.\n",
      "Voi là một loài động vật.\n",
      "\n",
      "Dơi không thể bơi.\n",
      "Dơi là động vật máu nóng.\n",
      "Dơi là một loài động vật.\n"
     ]
    }
   ],
   "source": [
    "class Animal:\n",
    "   def __init__(self, Animal):\n",
    "     print(Animal, 'là một loài động vật.');\n",
    " \n",
    "class Mammal(Animal):\n",
    "   def __init__(self, mammalName):\n",
    "     print(mammalName, 'là động vật máu nóng.')\n",
    "     super().__init__(mammalName)\n",
    "     \n",
    "class NonWingedMammal(Mammal):\n",
    "   def __init__(self, NonWingedMammal):\n",
    "     print(NonWingedMammal, \"không thể bay.\")\n",
    "     super().__init__(NonWingedMammal)\n",
    " \n",
    "class NonMarineMammal(Mammal):\n",
    "   def __init__(self, NonMarineMammal):\n",
    "     print(NonMarineMammal, \"không thể bơi.\")\n",
    "     super().__init__(NonMarineMammal)\n",
    " \n",
    "class Voi(NonMarineMammal, NonWingedMammal):\n",
    "   def __init__(self):\n",
    "     print('Voi có 4 chân.');\n",
    "     super().__init__('Voi')\n",
    "     \n",
    "d = Voi()\n",
    "print('')\n",
    "bat = NonMarineMammal('Dơi')"
   ]
  },
  {
   "cell_type": "code",
   "execution_count": null,
   "metadata": {},
   "outputs": [],
   "source": []
  }
 ],
 "metadata": {
  "kernelspec": {
   "display_name": "Python 3",
   "language": "python",
   "name": "python3"
  },
  "language_info": {
   "codemirror_mode": {
    "name": "ipython",
    "version": 3
   },
   "file_extension": ".py",
   "mimetype": "text/x-python",
   "name": "python",
   "nbconvert_exporter": "python",
   "pygments_lexer": "ipython3",
   "version": "3.8.3"
  }
 },
 "nbformat": 4,
 "nbformat_minor": 4
}
