{
 "cells": [
  {
   "cell_type": "markdown",
   "metadata": {},
   "source": [
    "Trong Python, hàm **super()** được sử dụng chính trong hai trường hợp:\n",
    "* Giúp chúng ta tránh phải sử dụng tên class cơ sở một cách rõ ràng\n",
    "\n",
    "* Xử lý Đa kế thừa"
   ]
  },
  {
   "cell_type": "markdown",
   "metadata": {},
   "source": [
    "### Hàm super() với Kế thừa đơn"
   ]
  },
  {
   "cell_type": "markdown",
   "metadata": {},
   "source": [
    "Trong trường hợp kế thừa đơn, hàm **super()** giúp chúng ta tham chiều tới class cơ sở."
   ]
  },
  {
   "cell_type": "code",
   "execution_count": 1,
   "metadata": {},
   "outputs": [
    {
     "name": "stdout",
     "output_type": "stream",
     "text": [
      "Voi có 4 chân.\n",
      "Voi là động vật máu nóng.\n",
      "Voi là động vật máu nóng.\n"
     ]
    }
   ],
   "source": [
    "class Mammal(object):\n",
    "   def __init__(self, mammalName):\n",
    "     print(mammalName, 'là động vật máu nóng.')\n",
    "     \n",
    "class Voi(Mammal):\n",
    "    def __init__(self):\n",
    "        print('Voi có 4 chân.')\n",
    "        # Ở đây, chúng ta gọi method __init__() của lớp Mammal (từ class Voi) bằng: \n",
    "        super().__init__('Voi')\n",
    "        # thay vì sử dụng:\n",
    "        Mammal.__init__(self, 'Voi')\n",
    "\n",
    "d1 = Voi()"
   ]
  },
  {
   "cell_type": "markdown",
   "metadata": {},
   "source": [
    "Vì chúng ta không cần sử dụng tên của class cơ sở khi gọi các đối tượng bên trong nó nên khi cần chúng ta có thể đổi tên class một cách dễ dàng:"
   ]
  },
  {
   "cell_type": "code",
   "execution_count": null,
   "metadata": {},
   "outputs": [],
   "source": [
    "# đổi class Mammal sang Elephantidae\n",
    "class Voi(Elephantidae):\n",
    "    def __init__(self):\n",
    "        print('Voi có 4 chân.')\n",
    "        super().__init__('Voi')  # chúng ta không cần thay đổi dòng code này"
   ]
  },
  {
   "cell_type": "markdown",
   "metadata": {},
   "source": [
    "Hàm super() trả về một đối tượng proxy, một dạng đối tượng thay thế có thể gọi các method của class cơ sở thông qua ủy quyền. Đây được gọi là phương thức gián tiếp (khả năng tham chiếu một đối tượng cơ sở với hàm super()). "
   ]
  },
  {
   "cell_type": "markdown",
   "metadata": {},
   "source": [
    "Vì phương thức tham chiếu gián tiếp này chỉ được sử dụng trong thời gian chạy chương trình nên chúng ta có thể sử dụng các class cơ sở khác nhau vào các thời điểm khác nhau nếu cần.\n",
    "\n"
   ]
  },
  {
   "cell_type": "code",
   "execution_count": null,
   "metadata": {},
   "outputs": [],
   "source": []
  }
 ],
 "metadata": {
  "kernelspec": {
   "display_name": "Python 3",
   "language": "python",
   "name": "python3"
  },
  "language_info": {
   "codemirror_mode": {
    "name": "ipython",
    "version": 3
   },
   "file_extension": ".py",
   "mimetype": "text/x-python",
   "name": "python",
   "nbconvert_exporter": "python",
   "pygments_lexer": "ipython3",
   "version": "3.8.3"
  }
 },
 "nbformat": 4,
 "nbformat_minor": 4
}
