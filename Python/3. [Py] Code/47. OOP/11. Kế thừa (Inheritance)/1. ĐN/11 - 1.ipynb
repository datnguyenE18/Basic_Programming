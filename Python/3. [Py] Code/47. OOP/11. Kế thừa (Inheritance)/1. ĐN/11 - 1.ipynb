{
 "cells": [
  {
   "cell_type": "markdown",
   "metadata": {},
   "source": [
    "# Kế thừa (Inheritance) trong Python"
   ]
  },
  {
   "cell_type": "markdown",
   "metadata": {},
   "source": [
    "Kế thừa trong lập trình hướng đối tượng cho phép chúng ta khai báo lớp mới sử dụng lại các hàm và thuộc tính của lớp cha cùng các chức năng mở rộng thêm."
   ]
  },
  {
   "cell_type": "markdown",
   "metadata": {},
   "source": [
    "Kế thừa (Inheritance) cho phép một lớp (class) có thể kế thừa các thuộc tính và phương thức từ các lớp khác đã được định nghĩa. Lớp đã có gọi là lớp cha (base class hoặc parent class), lớp mới phát sinh gọi là lớp con (child class hoặc derived class). Lớp con kế thừa tất cả thành phần của lớp cha, có thể mở rộng các thành phần kế thừa và bổ sung thêm các thành phần mới."
   ]
  },
  {
   "cell_type": "markdown",
   "metadata": {},
   "source": [
    "### Cú pháp"
   ]
  },
  {
   "cell_type": "code",
   "execution_count": null,
   "metadata": {},
   "outputs": [],
   "source": [
    "class BaseClass:\n",
    "     Body of base class\n",
    "\n",
    "class DerivedClass(BaseClass):\n",
    "     Body of derived class"
   ]
  },
  {
   "cell_type": "markdown",
   "metadata": {},
   "source": [
    "### Ví dụ:"
   ]
  },
  {
   "cell_type": "markdown",
   "metadata": {},
   "source": [
    "Đa giác là một hình khép kín có 3 cạnh trở lên. Chúng ta có một lớp gọi là DaGiac được định nghĩa như sau:"
   ]
  },
  {
   "cell_type": "code",
   "execution_count": 1,
   "metadata": {},
   "outputs": [],
   "source": [
    "class DaGiac:\n",
    "\n",
    "     def __init__(self, socanh):\n",
    "        self.n = socanh\n",
    "        self.canh = [0 for i in range(socanh)]\n",
    "\n",
    "     def nhapcanh(self):\n",
    "        self.canh = [float(input(\"Bạn hãy nhập giá trị cạnh \"+str(i+1)+\" : \")) for i in range(self.n)]\n",
    "\n",
    "     def hienthicanh(self):\n",
    "        for i in range(self.n):\n",
    "            print(\"Giá trị cạnh\",i+1,\"là\",self.canh[i])"
   ]
  },
  {
   "cell_type": "markdown",
   "metadata": {},
   "source": [
    "Class **DaGiac** có thuộc tính n để định nghĩa số cạnh và **canh** để lưu giá trị mỗi cạnh. Hàm **nhapcanh()** lấy độ lớn các cạnh và **hienthicanh()** sẽ hiện thị danh sách các cạnh của đa giác."
   ]
  },
  {
   "cell_type": "markdown",
   "metadata": {},
   "source": [
    "Hình tam giác là đa giác có ba cạnh, nên ta sẽ tạo một **lớp TamGiac** kế thừa từ **DaGiac**. Class mới này sẽ thừa kế tất cả các thuộc tính sẵn có trong lớp cha nên bạn sẽ không cần khai báo lại (khả năng sử dụng lại code). **TamGiac** này được khai báo như sau:"
   ]
  },
  {
   "cell_type": "code",
   "execution_count": 2,
   "metadata": {},
   "outputs": [],
   "source": [
    "class TamGiac(DaGiac):\n",
    "\n",
    "     def __init__(self):\n",
    "        DaGiac.__init__(self,3)\n",
    "        \n",
    "# Lớp TamGiac không chỉ kế thừa mà còn định nghĩa thêm một hàm mới là hàm dientich:\n",
    "     def dientich(self):\n",
    "        a, b, c = self.canh\n",
    "        # Tính nửa chu vi:\n",
    "        s = (a + b + c) / 2\n",
    "        area = (s*(s-a)*(s-b)*(s-c)) ** 0.5\n",
    "        print('Diện tích của hình tam giác là %0.2f' %area)"
   ]
  },
  {
   "cell_type": "code",
   "execution_count": 3,
   "metadata": {},
   "outputs": [
    {
     "name": "stdout",
     "output_type": "stream",
     "text": [
      "Bạn hãy nhập giá trị cạnh 1 : 3\n",
      "Bạn hãy nhập giá trị cạnh 2 : 4\n",
      "Bạn hãy nhập giá trị cạnh 3 : 5\n"
     ]
    }
   ],
   "source": [
    "t = TamGiac()\n",
    "t.nhapcanh()"
   ]
  },
  {
   "cell_type": "code",
   "execution_count": 4,
   "metadata": {},
   "outputs": [
    {
     "name": "stdout",
     "output_type": "stream",
     "text": [
      "Giá trị cạnh 1 là 3.0\n",
      "Giá trị cạnh 2 là 4.0\n",
      "Giá trị cạnh 3 là 5.0\n"
     ]
    }
   ],
   "source": [
    "t.hienthicanh()"
   ]
  },
  {
   "cell_type": "code",
   "execution_count": 5,
   "metadata": {},
   "outputs": [
    {
     "name": "stdout",
     "output_type": "stream",
     "text": [
      "Diện tích của hình tam giác là 6.00\n"
     ]
    }
   ],
   "source": [
    "t.dientich()"
   ]
  },
  {
   "cell_type": "markdown",
   "metadata": {},
   "source": [
    "Có thể thấy, các hàm **nhapcanh(), hienthicanh()** đều không có trong class **TamGiac**, nhưng chúng ta vẫn sử dụng được chúng"
   ]
  },
  {
   "cell_type": "code",
   "execution_count": null,
   "metadata": {},
   "outputs": [],
   "source": []
  }
 ],
 "metadata": {
  "kernelspec": {
   "display_name": "Python 3",
   "language": "python",
   "name": "python3"
  },
  "language_info": {
   "codemirror_mode": {
    "name": "ipython",
    "version": 3
   },
   "file_extension": ".py",
   "mimetype": "text/x-python",
   "name": "python",
   "nbconvert_exporter": "python",
   "pygments_lexer": "ipython3",
   "version": "3.8.3"
  }
 },
 "nbformat": 4,
 "nbformat_minor": 4
}
