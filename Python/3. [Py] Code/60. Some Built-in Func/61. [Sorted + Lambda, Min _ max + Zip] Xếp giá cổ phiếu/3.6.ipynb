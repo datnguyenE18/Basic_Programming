{
 "cells": [
  {
   "cell_type": "code",
   "execution_count": 1,
   "metadata": {},
   "outputs": [],
   "source": [
    "# Share prices:\n",
    "stocks ={\n",
    "    'VNM' : 200,\n",
    "    'ABC' : 40,\n",
    "    'FPT' : 56,\n",
    "    'HCM' : 110,\n",
    "    'SSI' : 30\n",
    "}"
   ]
  },
  {
   "cell_type": "markdown",
   "metadata": {},
   "source": [
    "##### Using ( Sorted + Min/ Max + Zip ):"
   ]
  },
  {
   "cell_type": "code",
   "execution_count": 2,
   "metadata": {},
   "outputs": [
    {
     "name": "stdout",
     "output_type": "stream",
     "text": [
      "(30, 'SSI')\n",
      "(200, 'VNM')\n",
      "[(30, 'SSI'), (40, 'ABC'), (56, 'FPT'), (110, 'HCM'), (200, 'VNM')]\n",
      "[(200, 'VNM'), (110, 'HCM'), (56, 'FPT'), (40, 'ABC'), (30, 'SSI')]\n"
     ]
    }
   ],
   "source": [
    "# Min:\n",
    "min_price = min (zip(stocks.values(), stocks.keys())) \n",
    "print(min_price)\n",
    "\n",
    "# Max:\n",
    "max_price = max (zip(stocks.values(), stocks.keys())) \n",
    "print(max_price)\n",
    "\n",
    "# Arange:\n",
    "stock_price = sorted(zip(stocks.values(), stocks.keys()))\n",
    "print (stock_price)\n",
    "\n",
    "stock_price1 = sorted(zip(stocks.values(), stocks.keys()), reverse = True)\n",
    "print (stock_price1)"
   ]
  },
  {
   "cell_type": "markdown",
   "metadata": {},
   "source": [
    "##### Using ( Sorted + Lambda ):"
   ]
  },
  {
   "cell_type": "markdown",
   "metadata": {},
   "source": [
    "*Min:*"
   ]
  },
  {
   "cell_type": "code",
   "execution_count": 3,
   "metadata": {},
   "outputs": [
    {
     "data": {
      "text/plain": [
       "[('SSI', 30), ('ABC', 40), ('FPT', 56), ('HCM', 110), ('VNM', 200)]"
      ]
     },
     "execution_count": 3,
     "metadata": {},
     "output_type": "execute_result"
    }
   ],
   "source": [
    "sorted(stocks.items(), key = lambda x: x[1])"
   ]
  },
  {
   "cell_type": "code",
   "execution_count": 4,
   "metadata": {},
   "outputs": [
    {
     "name": "stdout",
     "output_type": "stream",
     "text": [
      "('SSI', 30)\n"
     ]
    }
   ],
   "source": [
    "min_price = sorted(stocks.items(), key = lambda x: x[1])[0]\n",
    "print(min_price)"
   ]
  },
  {
   "cell_type": "code",
   "execution_count": 5,
   "metadata": {},
   "outputs": [
    {
     "name": "stdout",
     "output_type": "stream",
     "text": [
      "(30, 'SSI')\n"
     ]
    }
   ],
   "source": [
    "# or:\n",
    "min_price = min([(v, k) for (k, v) in stocks.items()])\n",
    "print(min_price)"
   ]
  },
  {
   "cell_type": "markdown",
   "metadata": {},
   "source": [
    "*Max:*"
   ]
  },
  {
   "cell_type": "code",
   "execution_count": 6,
   "metadata": {},
   "outputs": [
    {
     "data": {
      "text/plain": [
       "[('VNM', 200), ('HCM', 110), ('FPT', 56), ('ABC', 40), ('SSI', 30)]"
      ]
     },
     "execution_count": 6,
     "metadata": {},
     "output_type": "execute_result"
    }
   ],
   "source": [
    "sorted(stocks.items(), key = lambda x: x[1], reverse = True)"
   ]
  },
  {
   "cell_type": "code",
   "execution_count": 7,
   "metadata": {},
   "outputs": [
    {
     "name": "stdout",
     "output_type": "stream",
     "text": [
      "('VNM', 200)\n"
     ]
    }
   ],
   "source": [
    "max_price = sorted(stocks.items(), key = lambda x: x[1], reverse = True)[0]\n",
    "print(max_price)"
   ]
  },
  {
   "cell_type": "code",
   "execution_count": 8,
   "metadata": {},
   "outputs": [
    {
     "name": "stdout",
     "output_type": "stream",
     "text": [
      "(200, 'VNM')\n"
     ]
    }
   ],
   "source": [
    "# or:\n",
    "max_price = max([(v, k) for (k, v) in stocks.items()])\n",
    "print(max_price)"
   ]
  },
  {
   "cell_type": "markdown",
   "metadata": {},
   "source": [
    "*Arange:*"
   ]
  },
  {
   "cell_type": "code",
   "execution_count": 9,
   "metadata": {},
   "outputs": [
    {
     "data": {
      "text/plain": [
       "[('VNM', 200), ('HCM', 110), ('FPT', 56), ('ABC', 40), ('SSI', 30)]"
      ]
     },
     "execution_count": 9,
     "metadata": {},
     "output_type": "execute_result"
    }
   ],
   "source": [
    "sorted(stocks.items(), key = lambda x: x[1], reverse = True)"
   ]
  },
  {
   "cell_type": "code",
   "execution_count": 10,
   "metadata": {},
   "outputs": [
    {
     "data": {
      "text/plain": [
       "[('SSI', 30), ('ABC', 40), ('FPT', 56), ('HCM', 110), ('VNM', 200)]"
      ]
     },
     "execution_count": 10,
     "metadata": {},
     "output_type": "execute_result"
    }
   ],
   "source": [
    "sorted(stocks.items(), key = lambda x: x[1])"
   ]
  },
  {
   "cell_type": "code",
   "execution_count": 11,
   "metadata": {},
   "outputs": [
    {
     "data": {
      "text/plain": [
       "[(200, 'VNM'), (110, 'HCM'), (56, 'FPT'), (40, 'ABC'), (30, 'SSI')]"
      ]
     },
     "execution_count": 11,
     "metadata": {},
     "output_type": "execute_result"
    }
   ],
   "source": [
    "sorted([(v, k) for (k, v) in stocks.items()], reverse = True)"
   ]
  },
  {
   "cell_type": "code",
   "execution_count": 12,
   "metadata": {},
   "outputs": [
    {
     "data": {
      "text/plain": [
       "[(30, 'SSI'), (40, 'ABC'), (56, 'FPT'), (110, 'HCM'), (200, 'VNM')]"
      ]
     },
     "execution_count": 12,
     "metadata": {},
     "output_type": "execute_result"
    }
   ],
   "source": [
    "sorted([(v, k) for (k, v) in stocks.items()])"
   ]
  },
  {
   "cell_type": "code",
   "execution_count": null,
   "metadata": {},
   "outputs": [],
   "source": []
  }
 ],
 "metadata": {
  "kernelspec": {
   "display_name": "Python 3",
   "language": "python",
   "name": "python3"
  },
  "language_info": {
   "codemirror_mode": {
    "name": "ipython",
    "version": 3
   },
   "file_extension": ".py",
   "mimetype": "text/x-python",
   "name": "python",
   "nbconvert_exporter": "python",
   "pygments_lexer": "ipython3",
   "version": "3.7.7"
  }
 },
 "nbformat": 4,
 "nbformat_minor": 4
}
